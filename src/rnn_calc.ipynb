{
 "cells": [
  {
   "cell_type": "code",
   "execution_count": null,
   "metadata": {},
   "outputs": [],
   "source": [
    "\"\"\"\n",
    "Learning addition and subtraction from string data.\n",
    "\"\"\""
   ]
  },
  {
   "cell_type": "code",
   "execution_count": 1,
   "metadata": {},
   "outputs": [],
   "source": [
    "import numpy as np\n",
    "import random\n",
    "\n",
    "import tensorflow as tf\n",
    "from tensorflow.keras.models import Sequential\n",
    "from tensorflow.keras.layers import TimeDistributed, Dense, Dropout, SimpleRNN, RepeatVector\n",
    "from tensorflow.keras.callbacks import EarlyStopping, LambdaCallback\n",
    "tf.config.run_functions_eagerly(True)\n",
    "\n",
    "from termcolor import colored"
   ]
  },
  {
   "cell_type": "code",
   "execution_count": 2,
   "metadata": {},
   "outputs": [
    {
     "data": {
      "text/plain": [
       "'0123456789+-'"
      ]
     },
     "execution_count": 2,
     "metadata": {},
     "output_type": "execute_result"
    }
   ],
   "source": [
    "ops = ['+', '-'] \n",
    "all_chars = '0123456789' + ''.join(ops)\n",
    "all_chars"
   ]
  },
  {
   "cell_type": "code",
   "execution_count": 3,
   "metadata": {},
   "outputs": [],
   "source": [
    "num_features = len(all_chars)\n",
    "char_to_index = dict((c, i) for i, c in enumerate(all_chars)) # tokenize\n",
    "index_to_char = dict((i, c) for i, c in enumerate(all_chars))"
   ]
  },
  {
   "cell_type": "code",
   "execution_count": 4,
   "metadata": {},
   "outputs": [
    {
     "data": {
      "text/plain": [
       "('38+833', '871')"
      ]
     },
     "execution_count": 4,
     "metadata": {},
     "output_type": "execute_result"
    }
   ],
   "source": [
    "LO, HI = 0, 1000\n",
    "def generate_data(lo=LO, hi=HI):\n",
    "    n1 = np.random.randint(lo, hi+1)\n",
    "    n2 = np.random.randint(lo, hi+1)\n",
    "    op = random.choice(ops)\n",
    "    if (op == '/' and n2 == 0):\n",
    "        n2 = 1 # jankly avoid div by 0 err\n",
    "    example = str(n1) + op + str(n2)\n",
    "    label = 0\n",
    "    if op == '+':\n",
    "        label = n1 + n2\n",
    "    elif op == '-':\n",
    "        label = n1 - n2\n",
    "    elif op == '*':\n",
    "        label = n1 * n2\n",
    "    elif op == '/':\n",
    "        label = n1 // n2\n",
    "    return example, str(label)\n",
    "generate_data()"
   ]
  },
  {
   "cell_type": "code",
   "execution_count": 5,
   "metadata": {},
   "outputs": [
    {
     "name": "stderr",
     "output_type": "stream",
     "text": [
      "2022-09-03 15:39:27.372302: I tensorflow/core/platform/cpu_feature_guard.cc:193] This TensorFlow binary is optimized with oneAPI Deep Neural Network Library (oneDNN) to use the following CPU instructions in performance-critical operations:  AVX2 FMA\n",
      "To enable them in other operations, rebuild TensorFlow with the appropriate compiler flags.\n"
     ]
    },
    {
     "name": "stdout",
     "output_type": "stream",
     "text": [
      "Model: \"sequential\"\n",
      "_________________________________________________________________\n",
      " Layer (type)                Output Shape              Param #   \n",
      "=================================================================\n",
      " simple_rnn (SimpleRNN)      (None, 128)               18048     \n",
      "                                                                 \n",
      " repeat_vector (RepeatVector  (None, 7, 128)           0         \n",
      " )                                                               \n",
      "                                                                 \n",
      " simple_rnn_1 (SimpleRNN)    (None, 7, 128)            32896     \n",
      "                                                                 \n",
      " time_distributed (TimeDistr  (None, 7, 12)            1548      \n",
      " ibuted)                                                         \n",
      "                                                                 \n",
      "=================================================================\n",
      "Total params: 52,492\n",
      "Trainable params: 52,492\n",
      "Non-trainable params: 0\n",
      "_________________________________________________________________\n"
     ]
    }
   ],
   "source": [
    "# Recurrent NN for variable vectors, both input and output\n",
    "hidden_units = 128\n",
    "max_time_steps = 2 * 3 + 1 # max length of input\n",
    "\n",
    "model = Sequential([\n",
    "    SimpleRNN(hidden_units, input_shape=(None, num_features)),\n",
    "    RepeatVector(max_time_steps), # get singular vec representation\n",
    "    # decoder starts here:\n",
    "    SimpleRNN(hidden_units, return_sequences=True),\n",
    "    TimeDistributed(Dense(num_features, activation='softmax'))\n",
    "])\n",
    "\n",
    "model.compile(\n",
    "    loss='categorical_crossentropy',\n",
    "    optimizer='adam',\n",
    "    metrics=['accuracy']\n",
    ")\n",
    "model.summary()"
   ]
  },
  {
   "cell_type": "code",
   "execution_count": 6,
   "metadata": {},
   "outputs": [
    {
     "name": "stdout",
     "output_type": "stream",
     "text": [
      "441+436 877\n",
      "[[0. 0. 0. 0. 1. 0. 0. 0. 0. 0. 0. 0.]\n",
      " [0. 0. 0. 0. 1. 0. 0. 0. 0. 0. 0. 0.]\n",
      " [0. 1. 0. 0. 0. 0. 0. 0. 0. 0. 0. 0.]\n",
      " [0. 0. 0. 0. 0. 0. 0. 0. 0. 0. 1. 0.]\n",
      " [0. 0. 0. 0. 1. 0. 0. 0. 0. 0. 0. 0.]\n",
      " [0. 0. 0. 1. 0. 0. 0. 0. 0. 0. 0. 0.]\n",
      " [0. 0. 0. 0. 0. 0. 1. 0. 0. 0. 0. 0.]]\n",
      "[[1. 0. 0. 0. 0. 0. 0. 0. 0. 0. 0. 0.]\n",
      " [1. 0. 0. 0. 0. 0. 0. 0. 0. 0. 0. 0.]\n",
      " [1. 0. 0. 0. 0. 0. 0. 0. 0. 0. 0. 0.]\n",
      " [1. 0. 0. 0. 0. 0. 0. 0. 0. 0. 0. 0.]\n",
      " [0. 0. 0. 0. 0. 0. 0. 0. 1. 0. 0. 0.]\n",
      " [0. 0. 0. 0. 0. 0. 0. 1. 0. 0. 0. 0.]\n",
      " [0. 0. 0. 0. 0. 0. 0. 1. 0. 0. 0. 0.]]\n"
     ]
    }
   ],
   "source": [
    "def vectorize_example(example, label):\n",
    "    x = np.zeros((max_time_steps, num_features))\n",
    "    y = np.zeros((max_time_steps, num_features))\n",
    "\n",
    "    diff_x = max_time_steps - len(example)\n",
    "    diff_y = max_time_steps - len(label) \n",
    "        \n",
    "    for i, c in enumerate(example):\n",
    "        x[i + diff_x, char_to_index[c]] = 1\n",
    "    for i in range(diff_x):\n",
    "        x[i, char_to_index['0']] = 1\n",
    "    for i, c in enumerate(label):\n",
    "        y[i + diff_y, char_to_index[c]] = 1\n",
    "    for i in range(diff_y):\n",
    "        y[i, char_to_index['0']] = 1\n",
    "    \n",
    "    return x, y\n",
    "e, l = generate_data()\n",
    "print(e, l)\n",
    "x, y = vectorize_example(e, l)\n",
    "print(x)\n",
    "print(y)"
   ]
  },
  {
   "cell_type": "code",
   "execution_count": 7,
   "metadata": {},
   "outputs": [
    {
     "data": {
      "text/plain": [
       "'441+436'"
      ]
     },
     "execution_count": 7,
     "metadata": {},
     "output_type": "execute_result"
    }
   ],
   "source": [
    "def devectorize_example(example):\n",
    "    result = [index_to_char[np.argmax(vec)] for i, vec in enumerate(example)]\n",
    "    return ''.join(result)\n",
    "\n",
    "devectorize_example(x)"
   ]
  },
  {
   "cell_type": "code",
   "execution_count": 8,
   "metadata": {},
   "outputs": [],
   "source": [
    "l_cb = LambdaCallback(\n",
    "    on_epoch_end=lambda e, l: print('{:.2f}'.format(l['val_accuracy']), end=' _ ')\n",
    ")\n",
    "    \n",
    "es_cb = EarlyStopping(monitor='val_loss', patience=10)\n"
   ]
  },
  {
   "cell_type": "code",
   "execution_count": 9,
   "metadata": {},
   "outputs": [
    {
     "name": "stdout",
     "output_type": "stream",
     "text": [
      "(20000, 7, 12) (20000, 7, 12)\n"
     ]
    }
   ],
   "source": [
    "def create_dataset(num_examples=2000):\n",
    "\n",
    "    x_train = np.zeros((num_examples, max_time_steps, num_features))\n",
    "    y_train = np.zeros((num_examples, max_time_steps, num_features))\n",
    "\n",
    "    for i in range(num_examples):\n",
    "        e, l = generate_data()\n",
    "        x, y = vectorize_example(e, l)\n",
    "        x_train[i] = x\n",
    "        y_train[i] = y\n",
    "    \n",
    "    return x_train, y_train\n",
    "\n",
    "x_train, y_train = create_dataset(20000)\n",
    "print(x_train.shape, y_train.shape)"
   ]
  },
  {
   "cell_type": "code",
   "execution_count": 10,
   "metadata": {},
   "outputs": [
    {
     "name": "stderr",
     "output_type": "stream",
     "text": [
      "/usr/local/lib/python3.9/site-packages/tensorflow/python/data/ops/structured_function.py:264: UserWarning: Even though the `tf.config.experimental_run_functions_eagerly` option is set, this option does not apply to tf.data functions. To force eager execution of tf.data functions, please use `tf.data.experimental.enable_debug_mode()`.\n",
      "  warnings.warn(\n"
     ]
    },
    {
     "name": "stdout",
     "output_type": "stream",
     "text": [
      "0.59 _ 0.61 _ 0.62 _ 0.63 _ 0.64 _ 0.67 _ 0.67 _ 0.68 _ 0.68 _ 0.69 _ 0.70 _ 0.68 _ 0.71 _ 0.71 _ 0.73 _ 0.73 _ 0.72 _ 0.74 _ 0.74 _ 0.75 _ 0.75 _ 0.76 _ 0.77 _ 0.77 _ 0.78 _ 0.78 _ 0.79 _ 0.80 _ 0.80 _ 0.81 _ 0.81 _ 0.83 _ 0.83 _ 0.84 _ 0.83 _ 0.84 _ 0.86 _ 0.86 _ 0.86 _ 0.85 _ 0.86 _ 0.86 _ 0.88 _ 0.89 _ 0.89 _ 0.88 _ 0.88 _ 0.88 _ 0.90 _ 0.90 _ 0.90 _ 0.91 _ 0.91 _ 0.90 _ 0.90 _ 0.91 _ 0.91 _ 0.91 _ 0.91 _ 0.92 _ 0.91 _ 0.92 _ 0.92 _ 0.93 _ 0.92 _ 0.93 _ 0.93 _ 0.92 _ 0.92 _ 0.92 _ 0.93 _ 0.93 _ 0.93 _ 0.94 _ 0.93 _ 0.93 _ 0.93 _ 0.93 _ 0.92 _ 0.94 _ 0.94 _ 0.94 _ 0.94 _ 0.94 _ 0.94 _ 0.94 _ 0.94 _ 0.94 _ 0.93 _ 0.93 _ 0.94 _ 0.95 _ 0.94 _ 0.92 _ 0.95 _ 0.94 _ 0.95 _ 0.95 _ 0.95 _ 0.95 _ 0.94 _ 0.94 _ 0.95 _ 0.94 _ 0.95 _ 0.94 _ 0.94 _ 0.95 _ 0.95 _ 0.94 _ 0.95 _ 0.95 _ 0.95 _ 0.95 _ 0.95 _ 0.94 _ 0.95 _ 0.95 _ 0.95 _ 0.95 _ 0.95 _ 0.94 _ 0.94 _ 0.93 _ 0.95 _ 0.95 _ 0.96 _ 0.95 _ 0.96 _ 0.95 _ 0.95 _ 0.94 _ 0.95 _ 0.94 _ 0.94 _ 0.95 _ 0.95 _ "
     ]
    },
    {
     "data": {
      "text/plain": [
       "<keras.callbacks.History at 0x1488a2520>"
      ]
     },
     "execution_count": 10,
     "metadata": {},
     "output_type": "execute_result"
    }
   ],
   "source": [
    "model.fit(x_train, y_train, \n",
    "          epochs=500, \n",
    "          batch_size=256, \n",
    "          validation_split=0.2, \n",
    "          verbose=False,\n",
    "          callbacks=[es_cb, l_cb]\n",
    "         )"
   ]
  },
  {
   "cell_type": "code",
   "execution_count": 11,
   "metadata": {},
   "outputs": [
    {
     "name": "stdout",
     "output_type": "stream",
     "text": [
      "8/8 [==============================] - 0s 31ms/step - loss: 0.1483 - accuracy: 0.9481\n",
      "Test loss: 0.14828947186470032\n",
      "Test acc: 0.9481428861618042\n"
     ]
    }
   ],
   "source": [
    "x_test, y_test = create_dataset(1000)\n",
    "\n",
    "results = model.evaluate(x_test, y_test, batch_size=128)\n",
    "print(f\"Test loss: {results[0]}\")\n",
    "print(f\"Test acc: {results[1]}\")"
   ]
  },
  {
   "cell_type": "code",
   "execution_count": 12,
   "metadata": {},
   "outputs": [],
   "source": [
    "def del_leading_zeros(s):\n",
    "    return s.lstrip('0')"
   ]
  },
  {
   "cell_type": "code",
   "execution_count": 13,
   "metadata": {},
   "outputs": [
    {
     "name": "stdout",
     "output_type": "stream",
     "text": [
      "32/32 [==============================] - 1s 20ms/step\n",
      "EXPECTED | GOT\n",
      "-917\t-927\n",
      "821\t820\n",
      "\t-0\n",
      "-229\t-239\n",
      "654\t653\n",
      "94\t194\n",
      "-136\t-236\n",
      "612\t602\n",
      "331\t332\n",
      "662\t652\n",
      "461\t463\n",
      "538\t638\n",
      "852\t851\n",
      "213\t123\n",
      "-966\t-955\n",
      "-195\t-295\n",
      "904\t825\n",
      "525\t535\n",
      "802\t801\n",
      "780\t770\n",
      "463\t462\n",
      "1103\t334\n",
      "797\t886\n",
      "626\t625\n",
      "1202\t1102\n",
      "209\t109\n",
      "66\t65\n",
      "\t-1\n",
      "975\t963\n",
      "-147\t-148\n",
      "-54\t-44\n",
      "390\t391\n",
      "1153\t1163\n",
      "348\t358\n",
      "-747\t-737\n",
      "-665\t-664\n",
      "356\t346\n",
      "-399\t-400\n",
      "-110\t-111\n",
      "-507\t-517\n",
      "1766\t1856\n",
      "691\t773\n",
      "1103\t1113\n",
      "983\t982\n",
      "-249\t-349\n",
      "195\t294\n",
      "-868\t-858\n",
      "-285\t-385\n",
      "-38\t-39\n",
      "889\t899\n",
      "740\t730\n",
      "235\t244\n",
      "690\t680\n",
      "180\t170\n",
      "443\t452\n",
      "-649\t-659\n",
      "900\t990\n",
      "127\t137\n",
      "158\t57\n",
      "259\t269\n",
      "-826\t-827\n",
      "1426\t1326\n",
      "593\t693\n",
      "802\t702\n",
      "620\t610\n",
      "186\t176\n",
      "484\t494\n",
      "36\t35\n",
      "121\t22\n",
      "1926\t1936\n",
      "-48\t-58\n",
      "1595\t1695\n",
      "754\t753\n",
      "1401\t1301\n",
      "1103\t1003\n",
      "29\t39\n",
      "641\t631\n",
      "86\t76\n",
      "15\t-5\n",
      "1172\t1162\n",
      "530\t541\n",
      "250\t240\n",
      "-584\t-684\n",
      "887\t896\n",
      "-781\t-881\n",
      "109\t110\n",
      "350\t351\n",
      "-19\t-119\n",
      "-330\t-430\n",
      "1099\t1109\n",
      "1485\t1385\n",
      "-912\t-922\n",
      "883\t873\n",
      "538\t529\n",
      "834\t-152\n",
      "-297\t-397\n",
      "1339\t1349\n",
      "-289\t-299\n",
      "-32\t--32\n",
      "1078\t1077\n",
      "609\t619\n",
      "451\t441\n",
      "1864\t1863\n",
      "304\t303\n",
      "1526\t1525\n",
      "766\t756\n",
      "-659\t-669\n",
      "690\t790\n",
      "643\t741\n",
      "1472\t1482\n",
      "649\t659\n",
      "-69\t-60\n",
      "1206\t1106\n",
      "20\t-19\n",
      "592\t692\n",
      "-294\t-394\n",
      "1048\t1058\n",
      "170\t160\n",
      "-596\t-696\n",
      "-374\t-364\n",
      "86\t85\n",
      "-822\t-823\n",
      "1508\t1507\n",
      "602\t592\n",
      "492\t592\n",
      "1422\t1522\n",
      "881\t981\n",
      "-679\t-670\n",
      "499\t408\n",
      "96\t95\n",
      "429\t529\n",
      "578\t678\n",
      "396\t496\n",
      "-241\t-231\n",
      "-390\t-490\n",
      "176\t185\n",
      "-85\t-86\n",
      "-291\t-201\n",
      "-409\t-419\n",
      "1617\t1627\n",
      "-243\t-343\n",
      "936\t933\n",
      "119\t129\n",
      "596\t504\n",
      "541\t641\n",
      "-45\t-135\n",
      "-100\t-190\n",
      "1205\t1105\n",
      "110\t20\n",
      "1514\t1504\n",
      "764\t863\n",
      "3\t-7\n",
      "-706\t-606\n",
      "175\t174\n",
      "653\t663\n",
      "44\t45\n",
      "990\t1090\n",
      "377\t367\n",
      "429\t439\n",
      "505\t504\n",
      "1307\t1207\n",
      "186\t185\n",
      "-196\t-106\n",
      "581\t481\n",
      "255\t235\n",
      "271\t371\n",
      "5\t-5\n",
      "-34\t--34\n",
      "1200\t1100\n",
      "124\t114\n",
      "-75\t-74\n",
      "151\t141\n",
      "770\t760\n",
      "1498\t1598\n",
      "180\t170\n",
      "702\t602\n",
      "-69\t-79\n",
      "52\t152\n",
      "-330\t-321\n",
      "904\t804\n",
      "-199\t-299\n",
      "-25\t-26\n",
      "490\t472\n",
      "957\t950\n",
      "1565\t1575\n",
      "-607\t-617\n",
      "-605\t-614\n",
      "1100\t1000\n",
      "-46\t-136\n",
      "1230\t1220\n",
      "6\t4\n",
      "-899\t-900\n",
      "-729\t-739\n",
      "55\t74\n",
      "211\t203\n",
      "349\t359\n",
      "535\t337\n",
      "-809\t-810\n",
      "\t90\n",
      "641\t741\n",
      "-413\t-513\n",
      "610\t600\n",
      "1034\t1045\n",
      "842\t852\n",
      "-13\t--4\n",
      "-824\t-924\n",
      "-333\t-433\n",
      "1145\t1144\n",
      "-516\t-515\n",
      "154\t155\n",
      "1201\t1101\n",
      "430\t530\n",
      "1037\t1038\n",
      "344\t343\n",
      "971\t967\n",
      "-605\t-614\n",
      "-209\t-219\n",
      "1039\t1049\n",
      "8\t-2\n",
      "431\t430\n",
      "1610\t1600\n",
      "-662\t-653\n",
      "1500\t1490\n",
      "1108\t1008\n",
      "1455\t1465\n",
      "55\t54\n",
      "1539\t1549\n",
      "-413\t-513\n",
      "-392\t-492\n",
      "799\t700\n",
      "-587\t-687\n",
      "-405\t-415\n",
      "381\t382\n",
      "455\t456\n",
      "-498\t-508\n",
      "814\t924\n",
      "-395\t-495\n",
      "118\t128\n",
      "283\t293\n",
      "115\t105\n",
      "-680\t-670\n",
      "1432\t1422\n",
      "1329\t1339\n",
      "-128\t-228\n",
      "651\t641\n",
      "-702\t-712\n",
      "-363\t-362\n",
      "629\t639\n",
      "349\t359\n",
      "1464\t1364\n",
      "242\t252\n",
      "1115\t1114\n",
      "379\t389\n",
      "161\t272\n",
      "208\t209\n",
      "799\t798\n",
      "-11\t-02\n",
      "-50\t-40\n",
      "-66\t-56\n",
      "591\t691\n",
      "1197\t1297\n",
      "1018\t1028\n",
      "-499\t-509\n",
      "596\t585\n",
      "-705\t-704\n",
      "247\t256\n",
      "-294\t-394\n",
      "-94\t194\n",
      "813\t823\n"
     ]
    }
   ],
   "source": [
    "x_test, y_test = create_dataset(1000)\n",
    "preds = model.predict(x_test)\n",
    "\n",
    "print('EXPECTED | GOT')\n",
    "# see which ones are erroring and how\n",
    "for i, pred in enumerate(preds):\n",
    "    y = devectorize_example(y_test[i])\n",
    "    y_hat = devectorize_example(pred)\n",
    "    #out = 'Input: ' + devectorize_example(x_test[i])+ ' Out: ' + y + ' Pred: ' + y_hat\n",
    "    c = 'green'\n",
    "    if y != y_hat:\n",
    "        c = 'red'\n",
    "        print(del_leading_zeros(y) + '\\t' + del_leading_zeros(y_hat))\n"
   ]
  },
  {
   "cell_type": "code",
   "execution_count": 28,
   "metadata": {},
   "outputs": [
    {
     "name": "stdout",
     "output_type": "stream",
     "text": [
      "1/1 [==============================] - 0s 53ms/step\n"
     ]
    },
    {
     "name": "stderr",
     "output_type": "stream",
     "text": [
      "/usr/local/lib/python3.9/site-packages/tensorflow/python/data/ops/structured_function.py:264: UserWarning: Even though the `tf.config.experimental_run_functions_eagerly` option is set, this option does not apply to tf.data functions. To force eager execution of tf.data functions, please use `tf.data.experimental.enable_debug_mode()`.\n",
      "  warnings.warn(\n"
     ]
    },
    {
     "data": {
      "text/plain": [
       "'0000086'"
      ]
     },
     "execution_count": 28,
     "metadata": {},
     "output_type": "execute_result"
    }
   ],
   "source": [
    "def calc_example(new_model, example:str):\n",
    "    temp = np.zeros((1, max_time_steps, num_features))\n",
    "    example, label = vectorize_example(example, '')\n",
    "    temp[0] = example\n",
    "    \n",
    "    pred = new_model.predict(temp)\n",
    "    r = devectorize_example(pred[0])\n",
    "    return r\n",
    "\n",
    "calc_example(model, '100-15')\n"
   ]
  },
  {
   "cell_type": "code",
   "execution_count": 36,
   "metadata": {},
   "outputs": [
    {
     "name": "stdout",
     "output_type": "stream",
     "text": [
      "INFO:tensorflow:Assets written to: saved_model/ms_model/assets\n"
     ]
    }
   ],
   "source": [
    "!mkdir -p saved_model\n",
    "#model.save('saved_model/ms_model')\n",
    "tf.keras.models.save_model(\n",
    "    model,\n",
    "    './saved_model/ms_model',\n",
    ")\n"
   ]
  },
  {
   "cell_type": "code",
   "execution_count": 34,
   "metadata": {},
   "outputs": [],
   "source": [
    "new_model = tf.keras.models.load_model('./saved_model/ms_model')\n"
   ]
  },
  {
   "cell_type": "code",
   "execution_count": 35,
   "metadata": {},
   "outputs": [
    {
     "name": "stderr",
     "output_type": "stream",
     "text": [
      "/usr/local/lib/python3.9/site-packages/tensorflow/python/data/ops/structured_function.py:264: UserWarning: Even though the `tf.config.experimental_run_functions_eagerly` option is set, this option does not apply to tf.data functions. To force eager execution of tf.data functions, please use `tf.data.experimental.enable_debug_mode()`.\n",
      "  warnings.warn(\n"
     ]
    },
    {
     "name": "stdout",
     "output_type": "stream",
     "text": [
      "1/1 [==============================] - 0s 137ms/step\n"
     ]
    },
    {
     "data": {
      "text/plain": [
       "'0000086'"
      ]
     },
     "execution_count": 35,
     "metadata": {},
     "output_type": "execute_result"
    }
   ],
   "source": [
    "calc_example(new_model, '100-15')"
   ]
  },
  {
   "cell_type": "code",
   "execution_count": null,
   "metadata": {},
   "outputs": [],
   "source": [
    "\"\"\"\n",
    "Test accuracies (%):\n",
    "+: ~97\n",
    "+, -: ~95\n",
    "+, -, *: ~76\n",
    "\"\"\""
   ]
  }
 ],
 "metadata": {
  "kernelspec": {
   "display_name": "Python 3.9.4 64-bit",
   "language": "python",
   "name": "python3"
  },
  "language_info": {
   "codemirror_mode": {
    "name": "ipython",
    "version": 3
   },
   "file_extension": ".py",
   "mimetype": "text/x-python",
   "name": "python",
   "nbconvert_exporter": "python",
   "pygments_lexer": "ipython3",
   "version": "3.9.4"
  },
  "orig_nbformat": 4,
  "vscode": {
   "interpreter": {
    "hash": "aee8b7b246df8f9039afb4144a1f6fd8d2ca17a180786b69acc140d282b71a49"
   }
  }
 },
 "nbformat": 4,
 "nbformat_minor": 2
}
